{
 "cells": [
  {
   "cell_type": "markdown",
   "id": "96fde7bf-11ca-4ea7-820a-a266f3bc6eba",
   "metadata": {},
   "source": [
    "Q1. Create a Pandas Series that contains the following data: 4, 8, 15, 16, 23, and 42. Then, print the series."
   ]
  },
  {
   "cell_type": "code",
   "execution_count": 2,
   "id": "f99f2403-16a5-47c2-8876-e66a5ec56555",
   "metadata": {},
   "outputs": [],
   "source": [
    "import pandas as pd\n",
    "\n",
    "data=[4,8,15,16,23,42]\n",
    "x=pd.Series(data)"
   ]
  },
  {
   "cell_type": "code",
   "execution_count": 3,
   "id": "6d796d1e-43c0-4bf5-b906-667bee79c062",
   "metadata": {},
   "outputs": [
    {
     "name": "stdout",
     "output_type": "stream",
     "text": [
      "0     4\n",
      "1     8\n",
      "2    15\n",
      "3    16\n",
      "4    23\n",
      "5    42\n",
      "dtype: int64\n"
     ]
    }
   ],
   "source": [
    "print (x)"
   ]
  },
  {
   "cell_type": "markdown",
   "id": "4fc8534f-1332-4d16-b3cc-41b5c7e5ec5d",
   "metadata": {},
   "source": [
    "Q2. Create a variable of list type containing 10 elements in it, and apply pandas.Series function on the\n",
    "variable print it."
   ]
  },
  {
   "cell_type": "code",
   "execution_count": 5,
   "id": "099a344a-6671-45f6-9c2a-875c727d8896",
   "metadata": {},
   "outputs": [
    {
     "name": "stdout",
     "output_type": "stream",
     "text": [
      "0     1\n",
      "1     2\n",
      "2     3\n",
      "3     4\n",
      "4     5\n",
      "5     6\n",
      "6     7\n",
      "7     8\n",
      "8     9\n",
      "9    10\n",
      "dtype: int64\n"
     ]
    }
   ],
   "source": [
    "var=[1,2,3,4,5,6,7,8,9,10]\n",
    "series=pd.Series(var)\n",
    "print (series)"
   ]
  },
  {
   "cell_type": "markdown",
   "id": "1c716eff-f39d-45d0-a94c-ff2def95294b",
   "metadata": {},
   "source": [
    "3.Create a Pandas DataFrame that contains the following data:"
   ]
  },
  {
   "cell_type": "code",
   "execution_count": 7,
   "id": "7c81921a-31f6-4723-a638-22a2000f6faa",
   "metadata": {},
   "outputs": [
    {
     "name": "stdout",
     "output_type": "stream",
     "text": [
      "     name  age  gender\n",
      "0   alice   25  female\n",
      "1     bob   30    male\n",
      "2  clarie   27  female\n"
     ]
    }
   ],
   "source": [
    "data ={\n",
    "    'name':['alice','bob','clarie'],\n",
    "    'age':[25,30,27],\n",
    "    'gender':['female','male','female']\n",
    "}\n",
    "\n",
    "data_frame=pd.DataFrame(data)\n",
    "print(data_frame)"
   ]
  },
  {
   "cell_type": "markdown",
   "id": "89f6c942-f6fc-4fa0-ab7e-87ac40b266c3",
   "metadata": {},
   "source": [
    "Q4. What is ‘DataFrame’ in pandas and how is it different from pandas.series? Explain with an example."
   ]
  },
  {
   "cell_type": "markdown",
   "id": "387eebae-206e-4fe7-acc9-559f4b8528f8",
   "metadata": {},
   "source": [
    "\n",
    "A DataFrame is a 2-dimensional labeled data structure that is commonly used to store and manipulate data in tabular form, similar to a spreadsheet or a SQL table. It consists of rows and columns, where each column can be of a different data type (e.g., integer, float, string). DataFrames can be thought of as a collection of Pandas Series, where each Series represents a column of the DataFrame."
   ]
  },
  {
   "cell_type": "markdown",
   "id": "b79341ca-8051-4f3b-a4a2-edde9bc2923b",
   "metadata": {},
   "source": [
    "Example of dataframe"
   ]
  },
  {
   "cell_type": "code",
   "execution_count": 9,
   "id": "b839b424-f85e-4e8f-9ce7-1736841de2f5",
   "metadata": {},
   "outputs": [
    {
     "name": "stdout",
     "output_type": "stream",
     "text": [
      "     name  age  gender\n",
      "0   alice   25  female\n",
      "1     bob   30    male\n",
      "2  clarie   27  female\n"
     ]
    }
   ],
   "source": [
    "data ={\n",
    "    'name':['alice','bob','clarie'],\n",
    "    'age':[25,30,27],\n",
    "    'gender':['female','male','female']\n",
    "}\n",
    "\n",
    "data_frame=pd.DataFrame(data)\n",
    "print(data_frame)"
   ]
  },
  {
   "cell_type": "markdown",
   "id": "b0b96512-ee2f-4a73-9622-c4a7775878be",
   "metadata": {},
   "source": [
    "Examole of series"
   ]
  },
  {
   "cell_type": "code",
   "execution_count": 10,
   "id": "58e21808-44b6-4464-9d2b-c587b52a7649",
   "metadata": {},
   "outputs": [
    {
     "name": "stdout",
     "output_type": "stream",
     "text": [
      "0     1\n",
      "1     2\n",
      "2     3\n",
      "3     4\n",
      "4     5\n",
      "5     6\n",
      "6     7\n",
      "7     8\n",
      "8     9\n",
      "9    10\n",
      "dtype: int64\n"
     ]
    }
   ],
   "source": [
    "var=[1,2,3,4,5,6,7,8,9,10]\n",
    "series=pd.Series(var)\n",
    "print (series)"
   ]
  },
  {
   "cell_type": "markdown",
   "id": "6556227a-b83a-467f-a88b-f2ac57aecdd3",
   "metadata": {},
   "source": [
    "Q5. What are some common functions you can use to manipulate data in a Pandas DataFrame? Can\n",
    "you give an example of when you might use one of these functions?"
   ]
  },
  {
   "cell_type": "markdown",
   "id": "d01b3725-d532-4cb1-b6f1-aff39b3e8dab",
   "metadata": {},
   "source": [
    "\n",
    "Pandas provides a wide range of functions and methods to manipulate data within a DataFrame. Some common functions and methods used for data manipulation:\n",
    "\n",
    "Selection and Indexing,\n",
    "Filtering and Querying,\n",
    "Sorting etc.\n",
    "\n"
   ]
  },
  {
   "cell_type": "code",
   "execution_count": 15,
   "id": "5fc877a2-f2c8-4427-bd45-7aaefe612011",
   "metadata": {},
   "outputs": [
    {
     "data": {
      "text/plain": [
       "9    10\n",
       "8     9\n",
       "7     8\n",
       "6     7\n",
       "5     6\n",
       "4     5\n",
       "3     4\n",
       "2     3\n",
       "1     2\n",
       "0     1\n",
       "dtype: int64"
      ]
     },
     "execution_count": 15,
     "metadata": {},
     "output_type": "execute_result"
    }
   ],
   "source": [
    "\n",
    "series.sort_values( ascending=False)\n"
   ]
  },
  {
   "cell_type": "markdown",
   "id": "85c6b440-5f29-4258-a846-192a59a892cd",
   "metadata": {},
   "source": [
    "Q6. Which of the following is mutable in nature Series, DataFrame, Panel?"
   ]
  },
  {
   "cell_type": "markdown",
   "id": "87c53975-71a0-4f29-aaa5-32736951bfae",
   "metadata": {},
   "source": [
    " DataFrame in Pandas is mutable. You can modify the contents of a DataFrame after it has been created. This includes changing values in specific rows and columns, adding or removing rows and columns, and performing various operations that alter the DataFrame's structure or values."
   ]
  },
  {
   "cell_type": "markdown",
   "id": "433cec60-9075-4165-8ceb-e9c4c29ba4e0",
   "metadata": {},
   "source": [
    "Q7. Create a DataFrame using multiple Series. Explain with an example."
   ]
  },
  {
   "cell_type": "code",
   "execution_count": 26,
   "id": "b6ee569c-5698-47e0-8ac7-245dd6de5901",
   "metadata": {},
   "outputs": [
    {
     "ename": "SyntaxError",
     "evalue": "invalid syntax (3926553389.py, line 10)",
     "output_type": "error",
     "traceback": [
      "\u001b[0;36m  Cell \u001b[0;32mIn[26], line 10\u001b[0;36m\u001b[0m\n\u001b[0;31m    ['id':x],\u001b[0m\n\u001b[0m         ^\u001b[0m\n\u001b[0;31mSyntaxError\u001b[0m\u001b[0;31m:\u001b[0m invalid syntax\n"
     ]
    }
   ],
   "source": [
    "x=[1,2,3,4]\n",
    "y=['reshad','aadil','rohan','karl']\n",
    "z=['m','m','m','f']\n",
    "\n",
    "s1=pd.Series(x)\n",
    "s2=pd.Series(y)\n",
    "s3=pd.Series(z)\n",
    "\n",
    "p=pd.DataFarme\n",
    "\n",
    "\n",
    "print(p)\n"
   ]
  },
  {
   "cell_type": "code",
   "execution_count": null,
   "id": "011cea63-6548-4d2b-a15b-59cb71b7999a",
   "metadata": {},
   "outputs": [],
   "source": []
  }
 ],
 "metadata": {
  "kernelspec": {
   "display_name": "Python 3 (ipykernel)",
   "language": "python",
   "name": "python3"
  },
  "language_info": {
   "codemirror_mode": {
    "name": "ipython",
    "version": 3
   },
   "file_extension": ".py",
   "mimetype": "text/x-python",
   "name": "python",
   "nbconvert_exporter": "python",
   "pygments_lexer": "ipython3",
   "version": "3.10.8"
  }
 },
 "nbformat": 4,
 "nbformat_minor": 5
}
